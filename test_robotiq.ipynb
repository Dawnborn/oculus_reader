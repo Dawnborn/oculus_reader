{
 "cells": [
  {
   "cell_type": "code",
   "execution_count": 4,
   "metadata": {},
   "outputs": [],
   "source": [
    "from pyRobotiqGripper import RobotiqGripper\n",
    "gripper = RobotiqGripper()\n",
    "gripper.activate()\n",
    "gripper.open()\n",
    "gripper.close()\n",
    "gripper.goTo(255) # fully closed\n",
    "gripper.goTo(0) # fully open"
   ]
  }
 ],
 "metadata": {
  "kernelspec": {
   "display_name": "pyrobotiq",
   "language": "python",
   "name": "python3"
  },
  "language_info": {
   "codemirror_mode": {
    "name": "ipython",
    "version": 3
   },
   "file_extension": ".py",
   "mimetype": "text/x-python",
   "name": "python",
   "nbconvert_exporter": "python",
   "pygments_lexer": "ipython3",
   "version": "3.8.19"
  },
  "orig_nbformat": 4
 },
 "nbformat": 4,
 "nbformat_minor": 2
}
